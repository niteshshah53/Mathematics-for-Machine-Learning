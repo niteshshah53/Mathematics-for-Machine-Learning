{
 "cells": [
  {
   "cell_type": "markdown",
   "id": "83157a2e-358c-49a8-9e9c-1dd0d419e18a",
   "metadata": {},
   "source": [
    "### Calculus examples"
   ]
  },
  {
   "cell_type": "code",
   "execution_count": 2,
   "id": "512c65fa-e46d-42b6-9964-5b9d5004efcf",
   "metadata": {},
   "outputs": [
    {
     "name": "stdout",
     "output_type": "stream",
     "text": [
      "The derivative of x^2 at x=3.0 is approximately: 6.000000000039306\n"
     ]
    }
   ],
   "source": [
    "#differentiation\n",
    "def differentiate(func, x, h=1e-5):\n",
    "    # Numerical differentiation using the central difference formula\n",
    "    return (func(x + h) - func(x - h)) / (2 * h)\n",
    "\n",
    "# Example function: f(x) = x^2\n",
    "def example_function(x):\n",
    "    return x**2\n",
    "\n",
    "x_value = 3.0\n",
    "derivative_at_x = differentiate(example_function, x_value)\n",
    "print(f\"The derivative of x^2 at x={x_value} is approximately: {derivative_at_x}\")"
   ]
  },
  {
   "cell_type": "code",
   "execution_count": 3,
   "id": "6cb38414-3e6b-49a8-9d10-d595defe8b8c",
   "metadata": {},
   "outputs": [
    {
     "name": "stdout",
     "output_type": "stream",
     "text": [
      "The integral of x^2 from 0.0 to 2.0 is approximately: 2.6666679999999996\n"
     ]
    }
   ],
   "source": [
    "def integrate(func, a, b, n=1000):\n",
    "    # Numerical integration using the trapezoidal rule\n",
    "    delta_x = (b - a) / n\n",
    "    integral = 0.5 * (func(a) + func(b))\n",
    "    for i in range(1, n):\n",
    "        integral += func(a + i * delta_x)\n",
    "    return delta_x * integral\n",
    "\n",
    "# Example function: f(x) = x^2\n",
    "def example_function(x):\n",
    "    return x**2\n",
    "\n",
    "a_value = 0.0\n",
    "b_value = 2.0\n",
    "result_of_integration = integrate(example_function, a_value, b_value)\n",
    "print(f\"The integral of x^2 from {a_value} to {b_value} is approximately: {result_of_integration}\")"
   ]
  },
  {
   "cell_type": "markdown",
   "id": "a8970bd8-fca9-4f33-9601-30425a17d1cd",
   "metadata": {},
   "source": [
    "### gradient descent"
   ]
  },
  {
   "cell_type": "code",
   "execution_count": 4,
   "id": "e053a3ec-6e61-49d5-9253-cba66aca5000",
   "metadata": {},
   "outputs": [
    {
     "name": "stdout",
     "output_type": "stream",
     "text": [
      "The optimal x value that minimizes the function is approximately: 1.0185179881672439e-09\n"
     ]
    }
   ],
   "source": [
    "def gradient_descent(gradient_func, initial_x, learning_rate, num_iterations):\n",
    "    x = initial_x\n",
    "    for _ in range(num_iterations):\n",
    "        gradient = gradient_func(x)\n",
    "        x = x - learning_rate * gradient\n",
    "    return x\n",
    "\n",
    "def gradient_of_quadratic(x):\n",
    "    return 2 * x\n",
    "\n",
    "initial_x = 5.0  # Initial guess\n",
    "learning_rate = 0.1  # Learning rate\n",
    "num_iterations = 100  # Number of iterations\n",
    "\n",
    "optimal_x = gradient_descent(gradient_of_quadratic, initial_x, learning_rate, num_iterations)\n",
    "print(f\"The optimal x value that minimizes the function is approximately: {optimal_x}\")\n"
   ]
  },
  {
   "cell_type": "code",
   "execution_count": null,
   "id": "4538e3df-b027-4118-bbf2-d76bcd5196c3",
   "metadata": {},
   "outputs": [],
   "source": []
  }
 ],
 "metadata": {
  "kernelspec": {
   "display_name": "Python 3 (ipykernel)",
   "language": "python",
   "name": "python3"
  },
  "language_info": {
   "codemirror_mode": {
    "name": "ipython",
    "version": 3
   },
   "file_extension": ".py",
   "mimetype": "text/x-python",
   "name": "python",
   "nbconvert_exporter": "python",
   "pygments_lexer": "ipython3",
   "version": "3.11.2"
  }
 },
 "nbformat": 4,
 "nbformat_minor": 5
}
